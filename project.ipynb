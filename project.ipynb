{
 "cells": [
  {
   "cell_type": "markdown",
   "id": "c4e52ee5",
   "metadata": {},
   "source": [
    "## The dataset\n",
    "\n",
    "This is a real dataset and it was downloaded using web scraping techniques. The data contains registers from fotocasa which is one of the most popular websites of real estate in Spain. Please, do not do this (web scraping) unless it is for academic purposes.\n",
    "\n",
    "The dataset was downloaded a few years ago by Henry Navarro and In no case were economic returns obtained from it.\n",
    "\n",
    "It contains thousands of data from real homes published on the web www.fotocasa.com. Your goal is to extract as much information as possible with the knowledge you have so far about data science, for example what is the most expensive home in the entire dataset?\n",
    "\n",
    "Let's start with precisely that question... Good luck!\n"
   ]
  },
  {
   "cell_type": "markdown",
   "id": "dd97255d",
   "metadata": {},
   "source": [
    "#### Read the dataset assets/real_estate.csv and try to visualize the table (★☆☆)"
   ]
  },
  {
   "cell_type": "code",
   "execution_count": 9,
   "id": "4b93d9c8",
   "metadata": {},
   "outputs": [
    {
     "name": "stdout",
     "output_type": "stream",
     "text": [
      "       Unnamed: 0  id_realEstates  isNew                    realEstate_name  \\\n",
      "0               1       153771986  False            ferrari 57 inmobiliaria   \n",
      "1               2       153867863  False  tecnocasa fuenlabrada ferrocarril   \n",
      "2               3       153430440  False                 look find boadilla   \n",
      "3               4       152776331  False  tecnocasa fuenlabrada ferrocarril   \n",
      "4               5       153180188  False            ferrari 57 inmobiliaria   \n",
      "...           ...             ...    ...                                ...   \n",
      "15330       15331       153901377  False                infocasa consulting   \n",
      "15331       15332       150394373  False                inmobiliaria pulpon   \n",
      "15332       15333       153901397  False             tecnocasa torrelodones   \n",
      "15333       15334       152607440  False                inmobiliaria pulpon   \n",
      "15334       15335       153901356  False                infocasa consulting   \n",
      "\n",
      "       phone_realEstate                                       url_inmueble  \\\n",
      "0           912177526.0  https://www.fotocasa.es/es/comprar/vivienda/ma...   \n",
      "1           916358736.0  https://www.fotocasa.es/es/comprar/vivienda/ma...   \n",
      "2           916350408.0  https://www.fotocasa.es/es/comprar/vivienda/ma...   \n",
      "3           916358736.0  https://www.fotocasa.es/es/comprar/vivienda/ma...   \n",
      "4           912177526.0  https://www.fotocasa.es/es/comprar/vivienda/ma...   \n",
      "...                 ...                                                ...   \n",
      "15330       911360461.0  https://www.fotocasa.es/es/comprar/vivienda/ma...   \n",
      "15331       912788039.0  https://www.fotocasa.es/es/comprar/vivienda/ma...   \n",
      "15332       912780348.0  https://www.fotocasa.es/es/comprar/vivienda/ma...   \n",
      "15333       912788039.0  https://www.fotocasa.es/es/comprar/vivienda/ma...   \n",
      "15334       911360461.0  https://www.fotocasa.es/es/comprar/vivienda/ma...   \n",
      "\n",
      "       rooms  bathrooms  surface   price  ... level4Id level5Id level6Id  \\\n",
      "0        3.0        2.0    103.0  195000  ...        0        0        0   \n",
      "1        3.0        1.0      NaN   89000  ...        0        0        0   \n",
      "2        2.0        2.0     99.0  390000  ...        0        0        0   \n",
      "3        3.0        1.0     86.0   89000  ...        0        0        0   \n",
      "4        2.0        2.0    106.0  172000  ...        0        0        0   \n",
      "...      ...        ...      ...     ...  ...      ...      ...      ...   \n",
      "15330    2.0        1.0     96.0  259470  ...        0        0        0   \n",
      "15331    3.0        1.0    150.0  165000  ...        0        0        0   \n",
      "15332    4.0        2.0    175.0  495000  ...        0        0        0   \n",
      "15333    3.0        2.0    101.0  195000  ...        0        0        0   \n",
      "15334    3.0        2.0    152.0  765000  ...        0        0        0   \n",
      "\n",
      "      level7Id level8Id accuracy          latitude          longitude zipCode  \\\n",
      "0            0        0        0  40,2948276786438  -3,44402412135624     NaN   \n",
      "1            0        0        1          40,28674           -3,79351     NaN   \n",
      "2            0        0        0  40,4115646786438  -3,90662252135624     NaN   \n",
      "3            0        0        0  40,2853785786438  -3,79508142135624     NaN   \n",
      "4            0        0        0  40,2998774864376  -3,45226301356237     NaN   \n",
      "...        ...      ...      ...               ...                ...     ...   \n",
      "15330        0        0        0          40,45416           -3,70286     NaN   \n",
      "15331        0        0        0          40,36652           -3,48951     NaN   \n",
      "15332        0        0        0          40,57444           -3,92124     NaN   \n",
      "15333        0        0        0          40,36967           -3,48105     NaN   \n",
      "15334        0        0        0          40,45773           -3,69068     NaN   \n",
      "\n",
      "      customZone  \n",
      "0            NaN  \n",
      "1            NaN  \n",
      "2            NaN  \n",
      "3            NaN  \n",
      "4            NaN  \n",
      "...          ...  \n",
      "15330        NaN  \n",
      "15331        NaN  \n",
      "15332        NaN  \n",
      "15333        NaN  \n",
      "15334        NaN  \n",
      "\n",
      "[15335 rows x 37 columns]\n"
     ]
    }
   ],
   "source": [
    "\"\"\" import ajkna \"\"\"\n",
    "import pandas as pd\n",
    "import numpy as np\n",
    "df = pd.read_csv('./assets/real_estate.csv', sep=\";\")\n",
    "print(df)"
   ]
  },
  {
   "cell_type": "markdown",
   "id": "40631cd6",
   "metadata": {},
   "source": [
    "#### What is the most expensive home in the dataset? (★☆☆)"
   ]
  },
  {
   "cell_type": "code",
   "execution_count": 10,
   "id": "8a758bcf",
   "metadata": {},
   "outputs": [
    {
     "name": "stdout",
     "output_type": "stream",
     "text": [
      "The id of the most expensive house is 13110\n"
     ]
    }
   ],
   "source": [
    "import pandas as pd\n",
    "\n",
    "df = pd.read_csv('./assets/real_estate.csv', sep=\";\")\n",
    "column = df[\"price\"]\n",
    "max_index = column.idxmax()\n",
    "print(f\"The id of the most expensive house is {max_index}\")"
   ]
  },
  {
   "cell_type": "markdown",
   "id": "0a708990",
   "metadata": {},
   "source": [
    "#### What is cheapest home in the dataset? (★☆☆)"
   ]
  },
  {
   "cell_type": "code",
   "execution_count": 13,
   "id": "477e01f4",
   "metadata": {},
   "outputs": [
    {
     "name": "stdout",
     "output_type": "stream",
     "text": [
      "The id of the most expensive house is 13110\n"
     ]
    }
   ],
   "source": [
    "import pandas as pd\n",
    "df = pd.read_csv('./assets/real_estate.csv', sep=\";\")\n",
    "column = df[\"price\"]\n",
    "max_index = column.idxmax()\n",
    "print(f\"The id of the most expensive house is {max_index}\")"
   ]
  },
  {
   "cell_type": "markdown",
   "id": "0b16cd77",
   "metadata": {},
   "source": [
    "#### What is the biggest and the smallest home in the dataset? (★☆☆)"
   ]
  },
  {
   "cell_type": "code",
   "execution_count": 17,
   "id": "4d9b5975",
   "metadata": {},
   "outputs": [
    {
     "name": "stdout",
     "output_type": "stream",
     "text": [
      "The id of the smallest house is 498 and has a surface of 249000.0\n",
      "The id of the biggest house is 6794 and has a surface of 15.0\n"
     ]
    }
   ],
   "source": [
    "import pandas as pd\n",
    "df = pd.read_csv('./assets/real_estate.csv', sep=\";\")\n",
    "column = df[\"surface\"]\n",
    "max_index = column.idxmax()\n",
    "surface_max = column.min()\n",
    "min_index = column.idxmin()\n",
    "surface_min = column.max()\n",
    "print(f\"The id of the smallest house is {min_index} and has a surface of {surface_min}\")\n",
    "print(f\"The id of the biggest house is {max_index} and has a surface of {surface_max}\")"
   ]
  },
  {
   "cell_type": "markdown",
   "id": "782d4c77",
   "metadata": {},
   "source": [
    "#### How many populations (level5) the dataset contains? (★☆☆)"
   ]
  },
  {
   "cell_type": "code",
   "execution_count": 19,
   "id": "5dbe1a08",
   "metadata": {},
   "outputs": [
    {
     "name": "stdout",
     "output_type": "stream",
     "text": [
      "168\n"
     ]
    }
   ],
   "source": [
    "import pandas as pd\n",
    "df = pd.read_csv('./assets/real_estate.csv', sep=\";\")\n",
    "column = df[\"level5\"]\n",
    "\"\"\" n unique \"\"\"\n",
    "print(column.unique().size)"
   ]
  },
  {
   "cell_type": "markdown",
   "id": "48d48f01",
   "metadata": {},
   "source": [
    "#### Does the dataset contain NAs? (★☆☆)\n"
   ]
  },
  {
   "cell_type": "code",
   "execution_count": 23,
   "id": "3ed233e7",
   "metadata": {},
   "outputs": [
    {
     "name": "stdout",
     "output_type": "stream",
     "text": [
      "True\n",
      "Unnamed: 0              0\n",
      "id_realEstates          0\n",
      "isNew                   0\n",
      "realEstate_name        10\n",
      "phone_realEstate      794\n",
      "url_inmueble            0\n",
      "rooms                 353\n",
      "bathrooms             345\n",
      "surface              1250\n",
      "price                   0\n",
      "date                    0\n",
      "description           142\n",
      "address                 0\n",
      "country                 0\n",
      "level1                  0\n",
      "level2                  0\n",
      "level3                  0\n",
      "level4               6643\n",
      "level5                  0\n",
      "level6              14627\n",
      "level7               2277\n",
      "level8               8579\n",
      "upperLevel              0\n",
      "countryId               0\n",
      "level1Id                0\n",
      "level2Id                0\n",
      "level3Id                0\n",
      "level4Id                0\n",
      "level5Id                0\n",
      "level6Id                0\n",
      "level7Id                0\n",
      "level8Id                0\n",
      "accuracy                0\n",
      "latitude                0\n",
      "longitude               0\n",
      "zipCode             15335\n",
      "customZone          15335\n",
      "dtype: int64\n",
      "65690\n"
     ]
    }
   ],
   "source": [
    "import pandas as pd\n",
    "df = pd.read_csv('./assets/real_estate.csv', sep=\";\")\n",
    "\"\"\" .info \"\"\"\n",
    "print(df.isnull().values.any())\n",
    "print(df.isnull().sum())\n",
    "print(df.isnull().sum().sum())"
   ]
  },
  {
   "cell_type": "markdown",
   "id": "4fa39382",
   "metadata": {},
   "source": [
    "#### Delete the NAs of the dataset, if applicable (★★☆)"
   ]
  },
  {
   "cell_type": "code",
   "execution_count": 26,
   "id": "c97757ec",
   "metadata": {},
   "outputs": [
    {
     "name": "stdout",
     "output_type": "stream",
     "text": [
      "Empty DataFrame\n",
      "Columns: [Unnamed: 0, id_realEstates, isNew, realEstate_name, phone_realEstate, url_inmueble, rooms, bathrooms, surface, price, date, description, address, country, level1, level2, level3, level4, level5, level6, level7, level8, upperLevel, countryId, level1Id, level2Id, level3Id, level4Id, level5Id, level6Id, level7Id, level8Id, accuracy, latitude, longitude, zipCode, customZone]\n",
      "Index: []\n",
      "\n",
      "[0 rows x 37 columns]\n"
     ]
    }
   ],
   "source": [
    "import pandas as pd\n",
    "df = pd.read_csv('./assets/real_estate.csv', sep=\";\")\n",
    "\"\"\" axis \"\"\"\n",
    "if(df.isnull().values.any()):\n",
    "    stripped_df = df.dropna()\n",
    "    print(stripped_df)\n",
    "else:\n",
    "    print(df)"
   ]
  },
  {
   "cell_type": "markdown",
   "id": "0e5f76de",
   "metadata": {},
   "source": [
    "#### What is the mean of prices in the population (level5) of \"Arroyomolinos (Madrid)\"? (★★☆)"
   ]
  },
  {
   "cell_type": "code",
   "execution_count": 27,
   "id": "327f7adb",
   "metadata": {},
   "outputs": [
    {
     "name": "stdout",
     "output_type": "stream",
     "text": [
      "294541.59854014596\n"
     ]
    }
   ],
   "source": [
    "import pandas as pd\n",
    "df = pd.read_csv('./assets/real_estate.csv', sep=\";\")\n",
    "filtered_df = df[df['level5'] == \"Arroyomolinos (Madrid)\"]\n",
    "\"\"\" mean promedio \"\"\"\n",
    "\"\"\" sacar el na de price \"\"\"\n",
    "\"\"\" nan min (np)\"\"\"\n",
    "print(filtered_df['price'].mean())"
   ]
  },
  {
   "cell_type": "markdown",
   "id": "89b548e3",
   "metadata": {},
   "source": [
    "#### Plot the histogram of prices for the population (level5) of \"Arroyomolinos (Madrid)\" and explain what you observe (★★☆)"
   ]
  },
  {
   "cell_type": "code",
   "execution_count": 1,
   "id": "2ba51bf7",
   "metadata": {},
   "outputs": [
    {
     "data": {
      "image/png": "[encoded data removed]",
      "text/plain": [
       "<Figure size 432x288 with 1 Axes>"
      ]
     },
     "metadata": {
      "needs_background": "light"
     },
     "output_type": "display_data"
    },
    {
     "name": "stdout",
     "output_type": "stream",
     "text": [
      "\n",
      "    The price of the houses is approximately 300000\n",
      "    \n"
     ]
    }
   ],
   "source": [
    "import pandas as pd\n",
    "import matplotlib.pyplot as plt\n",
    "\n",
    "df = pd.read_csv('./assets/real_estate.csv', sep=\";\")\n",
    "filtered_df = df[df['level5'] == \"Arroyomolinos (Madrid)\"]\n",
    "plt.hist(filtered_df['price'])\n",
    "plt.show()\n",
    "observations = \\\n",
    "    \"\"\"\n",
    "    The price of the houses is approximately 300000\n",
    "    \"\"\"\n",
    "print(observations)"
   ]
  },
  {
   "cell_type": "markdown",
   "id": "c86dc493",
   "metadata": {},
   "source": [
    "#### Now let's work with the \"south belt\" of madrid. Make a subsetting that contains the following populations (level5): \"Fuenlabrada\",\"Leganés\",\"Getafe\",\"Alcorcón\" (★★☆) "
   ]
  },
  {
   "cell_type": "code",
   "execution_count": 1,
   "id": "5280d0cb",
   "metadata": {},
   "outputs": [
    {
     "name": "stdout",
     "output_type": "stream",
     "text": [
      "       Unnamed: 0  id_realEstates  isNew  \\\n",
      "1               2       153867863  False   \n",
      "3               4       152776331  False   \n",
      "85             86       153152077  False   \n",
      "94             95       153995577  False   \n",
      "109           110       153586414  False   \n",
      "...           ...             ...    ...   \n",
      "15275       15276       153903887  False   \n",
      "15291       15292       151697757  False   \n",
      "15305       15306       153902389  False   \n",
      "15322       15323       153871864  False   \n",
      "15325       15326       153901467  False   \n",
      "\n",
      "                                 realEstate_name  phone_realEstate  \\\n",
      "1              tecnocasa fuenlabrada ferrocarril       916358736.0   \n",
      "3              tecnocasa fuenlabrada ferrocarril       916358736.0   \n",
      "85                       sinergical inmobiliaria               NaN   \n",
      "94                               viviendas365com       911226014.0   \n",
      "109              area uno asesores inmobiliarios       912664081.0   \n",
      "...                                          ...               ...   \n",
      "15275  aliseda servicios de gestion inmobiliaria       911368198.0   \n",
      "15291                                    unipiso       912788631.0   \n",
      "15305                             jadein ferrero       914871639.0   \n",
      "15322                          gestion comercial       911220662.0   \n",
      "15325                              montehogar 68       911790675.0   \n",
      "\n",
      "                                            url_inmueble  rooms  bathrooms  \\\n",
      "1      https://www.fotocasa.es/es/comprar/vivienda/ma...    3.0        1.0   \n",
      "3      https://www.fotocasa.es/es/comprar/vivienda/ma...    3.0        1.0   \n",
      "85     https://www.fotocasa.es/es/comprar/vivienda/le...    1.0        1.0   \n",
      "94     https://www.fotocasa.es/es/comprar/vivienda/le...    3.0        2.0   \n",
      "109    https://www.fotocasa.es/es/comprar/vivienda/ma...    3.0        3.0   \n",
      "...                                                  ...    ...        ...   \n",
      "15275  https://www.fotocasa.es/es/comprar/vivienda/al...    3.0        1.0   \n",
      "15291  https://www.fotocasa.es/es/comprar/vivienda/al...    3.0        2.0   \n",
      "15305  https://www.fotocasa.es/es/comprar/vivienda/ma...    3.0        2.0   \n",
      "15322  https://www.fotocasa.es/es/comprar/vivienda/ma...    3.0        1.0   \n",
      "15325  https://www.fotocasa.es/es/comprar/vivienda/ma...    2.0        2.0   \n",
      "\n",
      "       surface   price  ... level4Id level5Id level6Id level7Id level8Id  \\\n",
      "1          NaN   89000  ...        0        0        0        0        0   \n",
      "3         86.0   89000  ...        0        0        0        0        0   \n",
      "85        50.0  107000  ...        0        0        0        0        0   \n",
      "94       120.0  320000  ...        0        0        0        0        0   \n",
      "109      142.0  425000  ...        0        0        0        0        0   \n",
      "...        ...     ...  ...      ...      ...      ...      ...      ...   \n",
      "15275     78.0  138000  ...        0        0        0        0        0   \n",
      "15291    110.0  279000  ...        0        0        0        0        0   \n",
      "15305     85.0  170000  ...        0        0        0        0        0   \n",
      "15322     91.0  112000  ...        0        0        0        0        0   \n",
      "15325     99.0  215000  ...        0        0        0        0        0   \n",
      "\n",
      "      accuracy          latitude          longitude zipCode customZone  \n",
      "1            1          40,28674           -3,79351     NaN        NaN  \n",
      "3            0  40,2853785786438  -3,79508142135624     NaN        NaN  \n",
      "85           1          40,35059           -3,82693     NaN        NaN  \n",
      "94           0          40,31933           -3,77574     NaN        NaN  \n",
      "109          0        40,3313411         -3,8313868     NaN        NaN  \n",
      "...        ...               ...                ...     ...        ...  \n",
      "15275        1          40,31381           -3,83733     NaN        NaN  \n",
      "15291        0        40,3259051           -3,76318     NaN        NaN  \n",
      "15305        0        40,2882193         -3,8098617     NaN        NaN  \n",
      "15322        0          40,28282           -3,78892     NaN        NaN  \n",
      "15325        1          40,28062           -3,79869     NaN        NaN  \n",
      "\n",
      "[907 rows x 37 columns]\n"
     ]
    }
   ],
   "source": [
    "import pandas as pd\n",
    "\n",
    "df = pd.read_csv('./assets/real_estate.csv', sep=\";\")\n",
    "filtered_df = df[df['level5'].isin((\"Fuenlabrada\", \"Leganés\", \"Getafe\", \"Alcorcón\"))]\n",
    "print(filtered_df)"
   ]
  },
  {
   "cell_type": "markdown",
   "id": "090a6a3e",
   "metadata": {},
   "source": [
    "#### Make a bar plot of the median of prices (★★★) "
   ]
  },
  {
   "cell_type": "code",
   "execution_count": 2,
   "id": "68aec11c",
   "metadata": {},
   "outputs": [
    {
     "data": {
      "image/png": "[encoded data removed]",
      "text/plain": [
       "<Figure size 432x288 with 1 Axes>"
      ]
     },
     "metadata": {
      "needs_background": "light"
     },
     "output_type": "display_data"
    }
   ],
   "source": [
    "import pandas as pd\n",
    "import matplotlib.pyplot as plt\n",
    "\n",
    "df = pd.read_csv('./assets/real_estate.csv', sep=';')\n",
    "filtered_df = df[df['level5'].isin(('Fuenlabrada', 'Leganés', 'Getafe', 'Alcorcón'))]\n",
    "filtered_df = filtered_df[['level5', 'price']]\n",
    "grouped_filtered_df = filtered_df.groupby('level5').median()\n",
    "keys = grouped_filtered_df.index.values.tolist()\n",
    "values = grouped_filtered_df['price'].tolist()\n",
    "plt.bar(keys, values)\n",
    "plt.show()"
   ]
  },
  {
   "cell_type": "markdown",
   "id": "18f67373",
   "metadata": {},
   "source": [
    "#### Calculate the sample mean and variance of the variables: price, rooms, surface area and bathrooms (★★★) "
   ]
  },
  {
   "cell_type": "code",
   "execution_count": 3,
   "id": "8d068061",
   "metadata": {},
   "outputs": [
    {
     "name": "stdout",
     "output_type": "stream",
     "text": [
      "Mean of the requested variables\n",
      "                     price     rooms     surface  bathrooms\n",
      "level5                                                     \n",
      "Alcorcón     230071.052632  2.914894  105.913295   1.623656\n",
      "Fuenlabrada  177198.021459  3.025974  103.624365   1.445415\n",
      "Getafe       265040.500000  3.151724  126.896266   1.865052\n",
      "Leganés      208682.010309  2.906736  105.852273   1.518135\n",
      "\n",
      "\n",
      "Variance of the requested variables\n",
      "                    price     rooms      surface  bathrooms\n",
      "level5                                                     \n",
      "Alcorcón     1.594783e+10  0.933895  4244.323834   0.592735\n",
      "Fuenlabrada  4.701021e+09  0.355844  2264.643893   0.353367\n",
      "Getafe       2.098267e+10  0.772748  5828.110028   0.658809\n",
      "Leganés      1.191394e+10  0.824590  3987.475195   0.553055\n"
     ]
    }
   ],
   "source": [
    "import pandas as pd\n",
    "\n",
    "df = pd.read_csv('./assets/real_estate.csv', sep=';')\n",
    "filtered_df = df[df['level5'].isin(('Fuenlabrada', 'Leganés', 'Getafe', 'Alcorcón'))]\n",
    "filtered_df = filtered_df[['level5', 'price', 'rooms', 'surface', 'bathrooms']]\n",
    "grouped_filtered_df = filtered_df.groupby('level5')\n",
    "print(\"Mean of the requested variables\")\n",
    "print(grouped_filtered_df.mean())\n",
    "print()\n",
    "print()\n",
    "print(\"Variance of the requested variables\")\n",
    "print(grouped_filtered_df.var())"
   ]
  },
  {
   "cell_type": "markdown",
   "id": "95cfde61",
   "metadata": {},
   "source": [
    "#### What is the most expensive home of each population? (★★☆) "
   ]
  },
  {
   "cell_type": "code",
   "execution_count": 5,
   "id": "1c29f78c",
   "metadata": {},
   "outputs": [
    {
     "name": "stdout",
     "output_type": "stream",
     "text": [
      "{'Fuenlabrada': {'most_expensive_home': {'id': 11561, 'price': 490000}}, 'Leganés': {'most_expensive_home': {'id': 10412, 'price': 650000}}, 'Getafe': {'most_expensive_home': {'id': 2881, 'price': 1050000}}, 'Alcorcón': {'most_expensive_home': {'id': 5585, 'price': 950000}}}\n"
     ]
    }
   ],
   "source": [
    "import pandas as pd\n",
    "\n",
    "def get_population_most_expensive_home_data(population_df: pd.DataFrame):\n",
    "    result = {\n",
    "        \"most_expensive_home\": {\n",
    "            \"id\": population_df['price'].idxmax(), \n",
    "            \"price\": population_df['price'].max()\n",
    "        }\n",
    "    }\n",
    "    return result\n",
    "\n",
    "df = pd.read_csv('./assets/real_estate.csv', sep=';')\n",
    "populations_to_filter = ('Fuenlabrada', 'Leganés', 'Getafe', 'Alcorcón')\n",
    "filtered_df = df[df['level5'].isin(populations_to_filter)]\n",
    "filtered_df = filtered_df[['level5', 'price']]\n",
    "population_specific_df = [filtered_df[filtered_df['level5'] == population] for population in populations_to_filter]\n",
    "most_expensive_homes_dict = {\n",
    "    population_df['level5'].iloc[0]: get_population_most_expensive_home_data(population_df=population_df) \n",
    "    for population_df in population_specific_df\n",
    "}\n",
    "print(most_expensive_homes_dict)"
   ]
  },
  {
   "cell_type": "markdown",
   "id": "ea67579b",
   "metadata": {},
   "source": [
    "#### Normalize the variable of prices for each population and plot the 4 histograms in the same plot (★★★) "
   ]
  },
  {
   "cell_type": "code",
   "execution_count": 4,
   "id": "385ad99c",
   "metadata": {},
   "outputs": [
    {
     "data": {
      "image/png": "[encoded data removed]",
      "text/plain": [
       "<Figure size 432x288 with 4 Axes>"
      ]
     },
     "metadata": {
      "needs_background": "light"
     },
     "output_type": "display_data"
    }
   ],
   "source": [
    "import pandas as pd\n",
    "import matplotlib.pyplot as plt\n",
    "\n",
    "def normalize_price(df: pd.DataFrame) -> pd.DataFrame:\n",
    "    column = 'price'\n",
    "    new_df = df.copy() \n",
    "    new_df[column] = (df[column] - df[column].min()) / (df[column].max() - df[column].min())\n",
    "    return new_df\n",
    "\n",
    "df = pd.read_csv('./assets/real_estate.csv', sep=';')\n",
    "populations_to_filter = ('Fuenlabrada', 'Leganés', 'Getafe', 'Alcorcón')\n",
    "filtered_df = df[df['level5'].isin(populations_to_filter)]\n",
    "filtered_df = filtered_df[['level5', 'price']]\n",
    "population_specific_df = [filtered_df[filtered_df['level5'] == population] for population in populations_to_filter]\n",
    "population_specific_df = [normalize_price(df) for df in population_specific_df]\n",
    "\n",
    "for index, population_df in enumerate(population_specific_df):\n",
    "    plt.subplot(2, 2, index + 1)\n",
    "    plt.xlabel('Normalized price')\n",
    "    plt.ylabel('Frequency')\n",
    "    plt.hist(population_df, alpha=0.5, label=population_df['level5'].iloc[0])\n",
    "\n",
    "plt.show()"
   ]
  },
  {
   "cell_type": "markdown",
   "id": "2ec1bd5c",
   "metadata": {},
   "source": [
    "#### Make a plot of the coordinates (lat and long) of the south belt of Madrid by color of each population (★★★★) \n",
    "This is a extremely hard exercise and we highly recommend to do it at the end of everything"
   ]
  },
  {
   "cell_type": "code",
   "execution_count": 11,
   "id": "312aac99",
   "metadata": {},
   "outputs": [
    {
     "data": {
      "application/vnd.jupyter.widget-view+json": {
       "model_id": "cf7820f48ea84165824a5d214539bcef",
       "version_major": 2,
       "version_minor": 0
      },
      "text/plain": [
       "Map(center=[60, -2.2], controls=(ZoomControl(options=['position', 'zoom_in_text', 'zoom_in_title', 'zoom_out_t…"
      ]
     },
     "metadata": {},
     "output_type": "display_data"
    }
   ],
   "source": [
    "# jupyter nbextension enable --py --sys-prefix ipyleaflet\n",
    "\n",
    "from ipyleaflet import Map, basemaps, Marker\n",
    "import pandas as pd\n",
    "\n",
    "# Map centred on (60 degrees latitude et -2.2 degrees longitude)\n",
    "# Latitude, longitude\n",
    "map = Map(center = (60, -2.2), zoom = 2, min_zoom = 1, max_zoom = 20, \n",
    "    basemap=basemaps.Stamen.Terrain)\n",
    "\n",
    "df = pd.read_csv('./assets/real_estate.csv', sep=';')\n",
    "filtered_df = df[['level5', 'latitude', 'longitude']]\n",
    "populations_to_filter = ('Fuenlabrada', 'Leganés', 'Getafe', 'Alcorcón')\n",
    "colors = ('red', 'blue', 'yellow', 'pink')\n",
    "population_df_dict = {\n",
    "    population: filtered_df[filtered_df['level5'] == population].dropna()\n",
    "    for population in populations_to_filter\n",
    "}\n",
    "\n",
    "for population in populations_to_filter:\n",
    "    population_df = population_df_dict[population]\n",
    "    for index in range(len(population_df)):\n",
    "        location = (population_df.iloc[index]['latitude'],\n",
    "            population_df.iloc[index]['longitude'])\n",
    "        marker = Marker(location=location, draggable=False,\n",
    "            color=colors[populations_to_filter.index(population)])\n",
    "        map.add_layer(marker)\n",
    "\n",
    "map"
   ]
  },
  {
   "cell_type": "code",
   "execution_count": 13,
   "id": "f7931ec0",
   "metadata": {},
   "outputs": [
    {
     "data": {
      "application/vnd.jupyter.widget-view+json": {
       "model_id": "caf2ce110c964f83b383bd614c1acfcb",
       "version_major": 2,
       "version_minor": 0
      },
      "text/plain": [
       "Map(center=[60, -2.2], controls=(ZoomControl(options=['position', 'zoom_in_text', 'zoom_in_title', 'zoom_out_t…"
      ]
     },
     "metadata": {},
     "output_type": "display_data"
    }
   ],
   "source": [
    "from ipyleaflet import Map, basemaps, Marker\n",
    "import pandas as pd\n",
    "\n",
    "# Map centred on (60 degrees latitude et -2.2 degrees longitude)\n",
    "# Latitude, longitude\n",
    "map = Map(center = (60, -2.2), zoom = 2, min_zoom = 1, max_zoom = 20, \n",
    "    basemap=basemaps.Stamen.Terrain)\n",
    "\n",
    "df = pd.read_csv('./assets/real_estate.csv', sep=';')\n",
    "filtered_df = df[['level5', 'latitude', 'longitude']]\n",
    "populations_to_filter = ('Fuenlabrada', 'Leganés', 'Getafe', 'Alcorcón')\n",
    "colors = ('red', 'blue', 'yellow', 'pink')\n",
    "population_df_dict = {population: filtered_df[filtered_df['level5'] == population].dropna() for population in populations_to_filter}\n",
    "\n",
    "for population in populations_to_filter:\n",
    "    population_df = population_df_dict[population]\n",
    "    for index in range(len(population_df)):\n",
    "        location = (population_df.iloc[index]['latitude'], population_df.iloc[index]['longitude'])\n",
    "        marker = Marker(location=location, draggable=False, color=colors[populations_to_filter.index(population)])\n",
    "        map.add_layer(marker)\n",
    "\n",
    "map"
   ]
  },
  {
   "cell_type": "markdown",
   "id": "b22874b7",
   "metadata": {},
   "source": [
    "#### What can you say about the price per square meter between the towns of Getafe and Alcorcón?"
   ]
  },
  {
   "cell_type": "code",
   "execution_count": 15,
   "id": "e0ef506b",
   "metadata": {},
   "outputs": [
    {
     "name": "stdout",
     "output_type": "stream",
     "text": [
      "{'Getafe': {'price_per_square_meter': {'average': 2066.314949251463, 'median': 1973.3333333333333}}, 'Alcorcón': {'price_per_square_meter': {'average': 2239.302480199618, 'median': 2207.7922077922076}}}\n",
      "\n",
      "Thus ...\n",
      "Properties in Getafe are in average cheaper than those found in Alcorcón by the square meter\n",
      "\n"
     ]
    }
   ],
   "source": [
    "import pandas as pd\n",
    "\n",
    "def get_price_per_square_meter_info(df: pd.DataFrame):\n",
    "    return {\n",
    "        'price_per_square_meter': {\n",
    "                'average': df['price_per_square_meter'].mean(),\n",
    "                'median': df['price_per_square_meter'].median(),\n",
    "        }\n",
    "    }\n",
    "\n",
    "def print_conclusions():\n",
    "    print()\n",
    "    print(\"Thus ...\")\n",
    "    print(\"Properties in Getafe are in average cheaper than those found in Alcorcón by the square meter\")\n",
    "    print()\n",
    "\n",
    "df = pd.read_csv('./assets/real_estate.csv', sep=';')\n",
    "filtered_df = df[['level5', 'price', 'surface']]\n",
    "populations_to_filter = ('Getafe', 'Alcorcón')\n",
    "population_df_dict = {population: filtered_df[filtered_df['level5'] == population].dropna() for population in populations_to_filter}\n",
    "price_per_square_meter_info_dict = {}\n",
    "for population in population_df_dict:\n",
    "    population_df_dict[population]['price_per_square_meter'] = filtered_df['price'] / filtered_df['surface']\n",
    "    price_per_square_meter_info = get_price_per_square_meter_info(df=population_df_dict[population])\n",
    "    price_per_square_meter_info_dict[population] = price_per_square_meter_info\n",
    "\n",
    "print(price_per_square_meter_info_dict)\n",
    "print_conclusions()"
   ]
  },
  {
   "cell_type": "markdown",
   "id": "a4376b3f",
   "metadata": {},
   "source": [
    "#### Reload the data, is the average of \"Valdemorillo\" and \"Galapagar\" prices the same?"
   ]
  },
  {
   "cell_type": "code",
   "execution_count": 16,
   "id": "37dbaf65",
   "metadata": {},
   "outputs": [
    {
     "name": "stdout",
     "output_type": "stream",
     "text": [
      "\n",
      "Valdemorillo has an average price of 363860.2931034483\n",
      "Galapagar has an average price of 360063.20238095237\n",
      "No, the average price is NOT the same\n"
     ]
    }
   ],
   "source": [
    "import pandas as pd\n",
    "\n",
    "df = pd.read_csv('./assets/real_estate.csv', sep=';')\n",
    "filtered_df = df[['level5', 'price']]\n",
    "populations_to_filter = ('Valdemorillo', 'Galapagar')\n",
    "population_df_dict = {population: filtered_df[filtered_df['level5'] == population].dropna() for population in populations_to_filter}\n",
    "valdemorillo_average_price = population_df_dict[populations_to_filter[0]]['price'].mean()\n",
    "galapagar_average_price = population_df_dict[populations_to_filter[1]]['price'].mean()\n",
    "print()\n",
    "print(f\"{populations_to_filter[0]} has an average price of {valdemorillo_average_price}\")\n",
    "print(f\"{populations_to_filter[1]} has an average price of {galapagar_average_price}\")\n",
    "if valdemorillo_average_price == galapagar_average_price:\n",
    "    print(\"Yes, the average price is the same\")\n",
    "else:\n",
    "    print(\"No, the average price is NOT the same\")"
   ]
  },
  {
   "cell_type": "markdown",
   "id": "b6af45ec",
   "metadata": {},
   "source": [
    "#### What happens if we do the same analysis for price/m2 (★★☆) "
   ]
  },
  {
   "cell_type": "code",
   "execution_count": 17,
   "id": "8231d73e",
   "metadata": {},
   "outputs": [
    {
     "name": "stdout",
     "output_type": "stream",
     "text": [
      "\n",
      "Valdemorillo has an average price per square meter of 1317.9502109024984\n",
      "Galapagar has an average price per square meter of 1606.3240303094024\n",
      "No, their average price per square meter is NOT the same\n",
      "\n"
     ]
    }
   ],
   "source": [
    "import pandas as pd\n",
    "\n",
    "df = pd.read_csv('./assets/real_estate.csv', sep=';')\n",
    "filtered_df = df[['level5', 'price', 'surface']]\n",
    "populations_to_filter = ('Valdemorillo', 'Galapagar')\n",
    "population_df_dict = {population: filtered_df[filtered_df['level5'] == population].dropna() for population in populations_to_filter}\n",
    "for population in population_df_dict:\n",
    "    population_df_dict[population]['price_per_square_meter'] = filtered_df['price'] / filtered_df['surface']\n",
    "\n",
    "valdemorillo_average_price_per_square_meter = population_df_dict[populations_to_filter[0]]['price_per_square_meter'].mean()\n",
    "galapagar_average_price_per_square_meter = population_df_dict[populations_to_filter[1]]['price_per_square_meter'].mean()\n",
    "\n",
    "print()\n",
    "print(f\"{populations_to_filter[0]} has an average price per square meter of {valdemorillo_average_price_per_square_meter}\")\n",
    "print(f\"{populations_to_filter[1]} has an average price per square meter of {galapagar_average_price_per_square_meter}\")\n",
    "if valdemorillo_average_price_per_square_meter == galapagar_average_price_per_square_meter:\n",
    "    print(\"Yes, both have the same average price per square meter\")\n",
    "else:\n",
    "    print(\"No, their average price per square meter is NOT the same\")\n",
    "print()"
   ]
  },
  {
   "cell_type": "markdown",
   "id": "2d40e202",
   "metadata": {},
   "source": [
    "#### Could you say there is a relation between surface and price? (★★☆) \n",
    "Hint: make a scatter plot."
   ]
  },
  {
   "cell_type": "code",
   "execution_count": 18,
   "id": "405462e1",
   "metadata": {},
   "outputs": [
    {
     "data": {
      "image/png": "[encoded data removed]",
      "text/plain": [
       "<Figure size 864x288 with 3 Axes>"
      ]
     },
     "metadata": {
      "needs_background": "light"
     },
     "output_type": "display_data"
    },
    {
     "name": "stdout",
     "output_type": "stream",
     "text": [
      "The relation between surface and price seems to be inversely proportional.\n",
      "However, in Valdemorillo the surface grows faster than the price while in Galapagar seems to be the other way around.\n"
     ]
    }
   ],
   "source": [
    "import pandas as pd\n",
    "import matplotlib.pyplot as plt\n",
    "\n",
    "df = pd.read_csv('./assets/real_estate.csv', sep=';')\n",
    "filtered_df = df[['level5', 'price', 'surface']]\n",
    "populations_to_filter = ('Valdemorillo', 'Galapagar')\n",
    "population_df_dict = {population: filtered_df[filtered_df['level5'] == population].dropna() for population in populations_to_filter}\n",
    "\n",
    "plt.figure(figsize=(12, 4))\n",
    "plt.subplot(1, 3, 1)\n",
    "plt.ylabel('Surface')\n",
    "plt.scatter(population_df_dict[populations_to_filter[0]]['price'], population_df_dict[populations_to_filter[0]]['surface'], alpha=0.5, label=populations_to_filter[0])\n",
    "plt.legend(loc='upper left')\n",
    "plt.subplot(1, 3, 2)\n",
    "plt.scatter(population_df_dict[populations_to_filter[1]]['price'], population_df_dict[populations_to_filter[1]]['surface'], alpha=0.5, label=populations_to_filter[1])\n",
    "plt.legend(loc='upper left')\n",
    "plt.xlabel('Price')\n",
    "plt.subplot(1, 3, 3)\n",
    "plt.scatter(population_df_dict[populations_to_filter[0]]['price'], population_df_dict[populations_to_filter[0]]['surface'], alpha=0.5, label=populations_to_filter[0])\n",
    "plt.scatter(population_df_dict[populations_to_filter[1]]['price'], population_df_dict[populations_to_filter[1]]['surface'], alpha=0.5, label=populations_to_filter[1])\n",
    "plt.legend(loc='upper left')\n",
    "plt.show()\n",
    "\n",
    "print(\"There is a price difference according to the surface when it comes to small surface then the price seems to be maintained\")"
   ]
  },
  {
   "cell_type": "markdown",
   "id": "3275db77",
   "metadata": {},
   "source": [
    "#### Make the same plot for 4 different populations (level5) and rearrange them on the same graph? (★★☆) \n",
    "Hint: make a scatter plot of each population using subplots."
   ]
  },
  {
   "cell_type": "code",
   "execution_count": 19,
   "id": "e08292ff",
   "metadata": {},
   "outputs": [
    {
     "data": {
      "image/png": "[encoded data removed]",
      "text/plain": [
       "<Figure size 1800x576 with 5 Axes>"
      ]
     },
     "metadata": {
      "needs_background": "light"
     },
     "output_type": "display_data"
    }
   ],
   "source": [
    "import pandas as pd\n",
    "import matplotlib.pyplot as plt\n",
    "\n",
    "df = pd.read_csv('./assets/real_estate.csv', sep=';')\n",
    "filtered_df = df[['level5', 'price', 'surface']]\n",
    "populations_to_filter = ('Valdemorillo', 'Galapagar', 'Getafe', 'Alcorcón')\n",
    "population_df_dict = {population: filtered_df[filtered_df['level5'] == population].dropna() for population in populations_to_filter}\n",
    "\n",
    "plt.figure(figsize=(25, 8))\n",
    "plt.ylabel('Surface')\n",
    "\n",
    "for index, population in enumerate(populations_to_filter):\n",
    "    plt.subplot(1, 5, index + 1)\n",
    "    plt.scatter(population_df_dict[populations_to_filter[index]]['price'], population_df_dict[populations_to_filter[index]]['surface'], label=populations_to_filter[index])\n",
    "    plt.legend(loc='upper left')\n",
    "    plt.subplot(1, 5, 5)\n",
    "    plt.scatter(population_df_dict[populations_to_filter[index]]['price'], population_df_dict[populations_to_filter[index]]['surface'], label=populations_to_filter[index])\n",
    "\n",
    "plt.subplot(1, 5, 5)\n",
    "plt.legend(loc='upper left')\n",
    "plt.subplot(1, 5, 3)\n",
    "plt.xlabel('Price')\n",
    "plt.show()"
   ]
  },
  {
   "cell_type": "markdown",
   "id": "522c6bd9",
   "metadata": {},
   "source": [
    "#### How many  real estate agencies the dataset contains? (★★☆) "
   ]
  },
  {
   "cell_type": "code",
   "execution_count": 20,
   "id": "014ec6c8",
   "metadata": {},
   "outputs": [
    {
     "name": "stdout",
     "output_type": "stream",
     "text": [
      "14217\n"
     ]
    }
   ],
   "source": [
    "import pandas as pd\n",
    "\n",
    "df = pd.read_csv('./assets/real_estate.csv', sep=';')\n",
    "grouped_filtered_df = df.groupby(['id_realEstates'])\n",
    "grouped_filtered_df = grouped_filtered_df['id_realEstates']\n",
    "print(len(grouped_filtered_df.size()))"
   ]
  },
  {
   "cell_type": "markdown",
   "id": "899a101e",
   "metadata": {},
   "source": [
    "#### What is the population (level 5) that contains the most houses? (★★☆) "
   ]
  },
  {
   "cell_type": "code",
   "execution_count": 21,
   "id": "9e8b34ba",
   "metadata": {},
   "outputs": [
    {
     "name": "stdout",
     "output_type": "stream",
     "text": [
      " Madrid Capital\n"
     ]
    }
   ],
   "source": [
    "import pandas as pd\n",
    "\n",
    "df = pd.read_csv('./assets/real_estate.csv', sep=';')\n",
    "grouped_filtered_df = df.groupby(['level5'])\n",
    "houses_per_population = grouped_filtered_df['level5'].count()\n",
    "print(houses_per_population.idxmax())"
   ]
  }
 ],
 "metadata": {
  "kernelspec": {
   "display_name": "Python 3.8.13 64-bit ('3.8.13')",
   "language": "python",
   "name": "python3"
  },
  "language_info": {
   "codemirror_mode": {
    "name": "ipython",
    "version": 3
   },
   "file_extension": ".py",
   "mimetype": "text/x-python",
   "name": "python",
   "nbconvert_exporter": "python",
   "pygments_lexer": "ipython3",
   "version": "3.8.13"
  },
  "vscode": {
   "interpreter": {
    "hash": "110cc1dee26208153f2972f08a2ad52b6a56238dc66d48e87fb757ef2996db56"
   }
  }
 },
 "nbformat": 4,
 "nbformat_minor": 5
}
