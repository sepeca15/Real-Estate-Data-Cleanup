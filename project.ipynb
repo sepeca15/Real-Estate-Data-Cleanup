{
 "cells": [
  {
   "cell_type": "markdown",
   "id": "c4e52ee5",
   "metadata": {},
   "source": [
    "## The dataset\n",
    "\n",
    "This is a real dataset and it was downloaded using web scraping techniques. The data contains registers from fotocasa which is one of the most popular websites of real estate in Spain. Please, do not do this (web scraping) unless it is for academic purposes.\n",
    "\n",
    "The dataset was downloaded a few years ago by Henry Navarro and In no case were economic returns obtained from it.\n",
    "\n",
    "It contains thousands of data from real homes published on the web www.fotocasa.com. Your goal is to extract as much information as possible with the knowledge you have so far about data science, for example what is the most expensive home in the entire dataset?\n",
    "\n",
    "Let's start with precisely that question... Good luck!\n"
   ]
  },
  {
   "cell_type": "markdown",
   "id": "dd97255d",
   "metadata": {},
   "source": [
    "#### Read the dataset assets/real_estate.csv and try to visualize the table (★☆☆)"
   ]
  },
  {
   "cell_type": "code",
   "execution_count": null,
   "id": "4b93d9c8",
   "metadata": {},
   "outputs": [],
   "source": [
    "import ajkna\n",
    "import panda as pd\n",
    "import numpy as np\n",
    "data_frame = pd.read_csv('./assets/real_estate.csv'), sep=\";\"\n",
    "print(data_frame)"
   ]
  },
  {
   "cell_type": "markdown",
   "id": "40631cd6",
   "metadata": {},
   "source": [
    "#### What is the most expensive home in the dataset? (★☆☆)"
   ]
  },
  {
   "cell_type": "code",
   "execution_count": null,
   "id": "8a758bcf",
   "metadata": {},
   "outputs": [],
   "source": []
  },
  {
   "cell_type": "markdown",
   "id": "0a708990",
   "metadata": {},
   "source": [
    "#### What is cheapest home in the dataset? (★☆☆)"
   ]
  },
  {
   "cell_type": "code",
   "execution_count": null,
   "id": "477e01f4",
   "metadata": {},
   "outputs": [],
   "source": [
    "import panda as pd\n",
    "data_frame = pd.read_csv('./assets/real_estate.csv'), sep=\";\"\n",
    "column = data_frame[\"price\"]\n",
    "max_index = column.idxmax()\n",
    "print(f\"The id of the most expensive house is {max_index}\")"
   ]
  },
  {
   "cell_type": "markdown",
   "id": "0b16cd77",
   "metadata": {},
   "source": [
    "#### What is the biggest and the smallest home in the dataset? (★☆☆)"
   ]
  },
  {
   "cell_type": "code",
   "execution_count": null,
   "id": "4d9b5975",
   "metadata": {},
   "outputs": [],
   "source": [
    "import panda as pd\n",
    "data_frame = pd.read_csv('./assets/real_estate.csv'), sep=\";\"\n",
    "column = data_frame[\"surface\"]\n",
    "max_index = column.idxmax()\n",
    "_max = column.min()\n",
    "min_index = column.idxmin()\n",
    "_min = column.max()\n",
    "print(f\"The id of the smallest house is {min_index} and has a surface of {_min}\")\n",
    "print(f\"The id of the biggest house is {max_index} and has a surface of {_max}\")"
   ]
  },
  {
   "cell_type": "markdown",
   "id": "782d4c77",
   "metadata": {},
   "source": [
    "#### How many populations (level5) the dataset contains? (★☆☆)"
   ]
  },
  {
   "cell_type": "code",
   "execution_count": null,
   "id": "5dbe1a08",
   "metadata": {},
   "outputs": [],
   "source": [
    "import panda as pd\n",
    "data_frame = pd.read_csv('./assets/real_estate.csv'), sep=\";\"\n",
    "column = data_frame[\"level5\"]\n",
    "\"\"\" n unique \"\"\"\n",
    "print(column.unique().size)"
   ]
  },
  {
   "cell_type": "markdown",
   "id": "48d48f01",
   "metadata": {},
   "source": [
    "#### Does the dataset contain NAs? (★☆☆)\n"
   ]
  },
  {
   "cell_type": "code",
   "execution_count": null,
   "id": "3ed233e7",
   "metadata": {},
   "outputs": [],
   "source": [
    "import panda as pd\n",
    "data_frame = pd.read_csv('./assets/real_estate.csv'), sep=\";\"\n",
    "\"\"\" .info \"\"\"\n",
    "print(data_frame.isnull().values.any())"
   ]
  },
  {
   "cell_type": "markdown",
   "id": "4fa39382",
   "metadata": {},
   "source": [
    "#### Delete the NAs of the dataset, if applicable (★★☆)"
   ]
  },
  {
   "cell_type": "code",
   "execution_count": null,
   "id": "c97757ec",
   "metadata": {},
   "outputs": [],
   "source": [
    "import panda ad pd\n",
    "data_frame = pd.read_csv('./assets/real_estate.csv'), sep=\";\"\n",
    "\"\"\" axis \"\"\"\n",
    "if(data_frame.isnull().values.any()):\n",
    "    stripped_data_frame = data_frame.dropna()\n",
    "    print(stripped_data_frame)\n",
    "else:\n",
    "    print(data_frame)"
   ]
  },
  {
   "cell_type": "markdown",
   "id": "0e5f76de",
   "metadata": {},
   "source": [
    "#### What is the mean of prices in the population (level5) of \"Arroyomolinos (Madrid)\"? (★★☆)"
   ]
  },
  {
   "cell_type": "code",
   "execution_count": null,
   "id": "327f7adb",
   "metadata": {},
   "outputs": [],
   "source": [
    "import panda ad pd\n",
    "data_frame = pd.read_csv('./assets/real_estate.csv'), sep=\";\"\n",
    "filtered_data_frame = data_frame[data_frame['level5'] == \"Arroyomolinos (Madrid)\"]\n",
    "\"\"\" mean promedio \"\"\"\n",
    "\"\"\" sacar el na de price \"\"\"\n",
    "\"\"\" nan min (np)\"\"\"\n",
    "print(filtered_data_frame['price'].mean())"
   ]
  },
  {
   "cell_type": "markdown",
   "id": "89b548e3",
   "metadata": {},
   "source": [
    "#### Plot the histogram of prices for the population (level5) of \"Arroyomolinos (Madrid)\" and explain what you observe (★★☆)"
   ]
  },
  {
   "cell_type": "code",
   "execution_count": null,
   "id": "2ba51bf7",
   "metadata": {},
   "outputs": [],
   "source": [
    "import pandas as pd\n",
    "import matplotlib.pyplot as plt\n",
    "\n",
    "data_frame = pd.read_csv('./assets/real_estate.csv', sep=\";\")\n",
    "filtered_data_frame = data_frame[data_frame['level5'] == \"Arroyomolinos (Madrid)\"]\n",
    "plt.hist(filtered_data_frame['price'])\n",
    "plt.show()\n",
    "observations = \\\n",
    "    \"\"\"\n",
    "    It's observed that there is an overwhelming abundance of properties in the approximate price range of 200000 & 400000.\n",
    "    The minority of the houses have prices near the minimum and maximum price found in the dataframe.\n",
    "    The plot itself resembles a \"Normal distribution\" or \"Gauss distribution\".\n",
    "    \"\"\"\n",
    "print(observations)"
   ]
  },
  {
   "cell_type": "markdown",
   "id": "c86dc493",
   "metadata": {},
   "source": [
    "#### Now let's work with the \"south belt\" of madrid. Make a subsetting that contains the following populations (level5): \"Fuenlabrada\",\"Leganés\",\"Getafe\",\"Alcorcón\" (★★☆) "
   ]
  },
  {
   "cell_type": "code",
   "execution_count": null,
   "id": "5280d0cb",
   "metadata": {},
   "outputs": [],
   "source": [
    "import pandas as pd\n",
    "\n",
    "data_frame = pd.read_csv('./assets/real_estate.csv', sep=\";\")\n",
    "filtered_data_frame = data_frame[data_frame['level5'].isin((\"Fuenlabrada\", \"Leganés\", \"Getafe\", \"Alcorcón\"))]\n",
    "print(filtered_data_frame)"
   ]
  },
  {
   "cell_type": "markdown",
   "id": "090a6a3e",
   "metadata": {},
   "source": [
    "#### Make a bar plot of the median of prices (★★★) "
   ]
  },
  {
   "cell_type": "code",
   "execution_count": null,
   "id": "68aec11c",
   "metadata": {},
   "outputs": [],
   "source": [
    "import pandas as pd\n",
    "import matplotlib.pyplot as plt\n",
    "\n",
    "data_frame = pd.read_csv('./assets/real_estate.csv', sep=';')\n",
    "filtered_data_frame = data_frame[data_frame['level5'].isin(('Fuenlabrada', 'Leganés', 'Getafe', 'Alcorcón'))]\n",
    "filtered_data_frame = filtered_data_frame[['level5', 'price']]\n",
    "grouped_filtered_data_frame = filtered_data_frame.groupby('level5').median()\n",
    "keys = grouped_filtered_data_frame.index.values.tolist()\n",
    "values = grouped_filtered_data_frame['price'].tolist()\n",
    "plt.bar(keys, values)\n",
    "plt.show()"
   ]
  },
  {
   "cell_type": "markdown",
   "id": "18f67373",
   "metadata": {},
   "source": [
    "#### Calculate the sample mean and variance of the variables: price, rooms, surface area and bathrooms (★★★) "
   ]
  },
  {
   "cell_type": "code",
   "execution_count": null,
   "id": "8d068061",
   "metadata": {},
   "outputs": [],
   "source": [
    "import pandas as pd\n",
    "\n",
    "data_frame = pd.read_csv('./assets/real_estate.csv', sep=';')\n",
    "filtered_data_frame = data_frame[data_frame['level5'].isin(('Fuenlabrada', 'Leganés', 'Getafe', 'Alcorcón'))]\n",
    "filtered_data_frame = filtered_data_frame[['level5', 'price', 'rooms', 'surface', 'bathrooms']]\n",
    "grouped_filtered_data_frame = filtered_data_frame.groupby('level5')\n",
    "print(\"Mean of the requested variables\")\n",
    "print(grouped_filtered_data_frame.mean())\n",
    "print()\n",
    "print()\n",
    "print(\"Variance of the requested variables\")\n",
    "print(grouped_filtered_data_frame.var())"
   ]
  },
  {
   "cell_type": "markdown",
   "id": "95cfde61",
   "metadata": {},
   "source": [
    "#### What is the most expensive home of each population? (★★☆) "
   ]
  },
  {
   "cell_type": "code",
   "execution_count": null,
   "id": "1c29f78c",
   "metadata": {},
   "outputs": [],
   "source": [
    "import pandas as pd\n",
    "\n",
    "def get_population_most_expensive_home_data(population_data_frame: pd.DataFrame):\n",
    "    result = {\n",
    "        \"most_expensive_home\": {\n",
    "            \"id\": population_data_frame['price'].idxmax(), \n",
    "            \"price\": population_data_frame['price'].max()\n",
    "        }\n",
    "    }\n",
    "    return result\n",
    "\n",
    "data_frame = pd.read_csv('./assets/real_estate.csv', sep=';')\n",
    "populations_to_filter = ('Fuenlabrada', 'Leganés', 'Getafe', 'Alcorcón')\n",
    "filtered_data_frame = data_frame[data_frame['level5'].isin(populations_to_filter)]\n",
    "filtered_data_frame = filtered_data_frame[['level5', 'price']]\n",
    "population_specific_data_frames = [filtered_data_frame[filtered_data_frame['level5'] == population] for population in populations_to_filter]\n",
    "most_expensive_homes_dict = {\n",
    "    population_data_frame['level5'].iloc[0]: get_population_most_expensive_home_data(population_data_frame=population_data_frame) \n",
    "    for population_data_frame in population_specific_data_frames\n",
    "}\n",
    "print(most_expensive_homes_dict)"
   ]
  },
  {
   "cell_type": "markdown",
   "id": "ea67579b",
   "metadata": {},
   "source": [
    "#### Normalize the variable of prices for each population and plot the 4 histograms in the same plot (★★★) "
   ]
  },
  {
   "cell_type": "code",
   "execution_count": null,
   "id": "385ad99c",
   "metadata": {},
   "outputs": [],
   "source": [
    "import pandas as pd\n",
    "import matplotlib.pyplot as plt\n",
    "\n",
    "def normalize_price(data_frame: pd.DataFrame) -> pd.DataFrame:\n",
    "    column = 'price'\n",
    "    new_data_frame = data_frame.copy() \n",
    "    new_data_frame[column] = (data_frame[column] - data_frame[column].min()) / (data_frame[column].max() - data_frame[column].min())\n",
    "    return new_data_frame\n",
    "\n",
    "data_frame = pd.read_csv('./assets/real_estate.csv', sep=';')\n",
    "populations_to_filter = ('Fuenlabrada', 'Leganés', 'Getafe', 'Alcorcón')\n",
    "filtered_data_frame = data_frame[data_frame['level5'].isin(populations_to_filter)]\n",
    "filtered_data_frame = filtered_data_frame[['level5', 'price']]\n",
    "population_specific_data_frames = [filtered_data_frame[filtered_data_frame['level5'] == population] for population in populations_to_filter]\n",
    "population_specific_data_frames = [normalize_price(data_frame) for data_frame in population_specific_data_frames]\n",
    "\n",
    "for index, population_data_frame in enumerate(population_specific_data_frames):\n",
    "    plt.subplot(2, 2, index + 1)\n",
    "    plt.xlabel('Normalized price')\n",
    "    plt.ylabel('Frequency')\n",
    "    plt.hist(population_data_frame, alpha=0.5, label=population_data_frame['level5'].iloc[0])\n",
    "\n",
    "plt.show()"
   ]
  },
  {
   "cell_type": "markdown",
   "id": "2ec1bd5c",
   "metadata": {},
   "source": [
    "#### Make a plot of the coordinates (lat and long) of the south belt of Madrid by color of each population (★★★★) \n",
    "This is a extremely hard exercise and we highly recommend to do it at the end of everything"
   ]
  },
  {
   "cell_type": "code",
   "execution_count": null,
   "id": "312aac99",
   "metadata": {},
   "outputs": [],
   "source": [
    "# Run in console the following command before run the rest of code:\n",
    "# jupyter nbextension enable --py --sys-prefix ipyleaflet\n",
    "\n",
    "from ipyleaflet import Map, basemaps\n",
    "\n",
    "# Map centred on (60 degrees latitude et -2.2 degrees longitude)\n",
    "# Latitude, longitude\n",
    "map = Map(center = (60, -2.2), zoom = 2, min_zoom = 1, max_zoom = 20, \n",
    "    basemap=basemaps.Stamen.Terrain)\n",
    "\n",
    "data_frame = pd.read_csv('./assets/real_estate.csv', sep=';')\n",
    "filtered_data_frame = data_frame[['level5', 'latitude', 'longitude']]\n",
    "populations_to_filter = ('Fuenlabrada', 'Leganés', 'Getafe', 'Alcorcón')\n",
    "colors = ('red', 'blue', 'yellow', 'pink')\n",
    "population_data_frames_dict = {population: filtered_data_frame[filtered_data_frame['level5'] == population].dropna() for population in populations_to_filter}\n",
    "\n",
    "for population in populations_to_filter:\n",
    "    population_data_frame = population_data_frames_dict[population]\n",
    "    for index in range(len(population_data_frame)):\n",
    "        location = (population_data_frame.iloc[index]['latitude'], population_data_frame.iloc[index]['longitude'])\n",
    "        marker = Marker(location=location, draggable=False, color=colors[populations_to_filter.index(population)])\n",
    "        map.add_layer(marker)\n",
    "\n",
    "map"
   ]
  },
  {
   "cell_type": "code",
   "execution_count": null,
   "id": "f7931ec0",
   "metadata": {},
   "outputs": [],
   "source": [
    "from ipyleaflet import Map, basemaps, Marker\n",
    "import pandas as pd\n",
    "\n",
    "# Map centred on (60 degrees latitude et -2.2 degrees longitude)\n",
    "# Latitude, longitude\n",
    "map = Map(center = (60, -2.2), zoom = 2, min_zoom = 1, max_zoom = 20, \n",
    "    basemap=basemaps.Stamen.Terrain)\n",
    "\n",
    "data_frame = pd.read_csv('./assets/real_estate.csv', sep=';')\n",
    "filtered_data_frame = data_frame[['level5', 'latitude', 'longitude']]\n",
    "populations_to_filter = ('Fuenlabrada', 'Leganés', 'Getafe', 'Alcorcón')\n",
    "colors = ('red', 'blue', 'yellow', 'pink')\n",
    "population_data_frames_dict = {population: filtered_data_frame[filtered_data_frame['level5'] == population].dropna() for population in populations_to_filter}\n",
    "\n",
    "for population in populations_to_filter:\n",
    "    population_data_frame = population_data_frames_dict[population]\n",
    "    for index in range(len(population_data_frame)):\n",
    "        location = (population_data_frame.iloc[index]['latitude'], population_data_frame.iloc[index]['longitude'])\n",
    "        marker = Marker(location=location, draggable=False, color=colors[populations_to_filter.index(population)])\n",
    "        map.add_layer(marker)\n",
    "\n",
    "map"
   ]
  },
  {
   "cell_type": "markdown",
   "id": "b22874b7",
   "metadata": {},
   "source": [
    "#### What can you say about the price per square meter between the towns of Getafe and Alcorcón?"
   ]
  },
  {
   "cell_type": "code",
   "execution_count": null,
   "id": "e0ef506b",
   "metadata": {},
   "outputs": [],
   "source": [
    "import pandas as pd\n",
    "\n",
    "def get_price_per_square_meter_info(data_frame: pd.DataFrame):\n",
    "    return {\n",
    "        'price_per_square_meter': {\n",
    "                'average': data_frame['price_per_square_meter'].mean(),\n",
    "                'median': data_frame['price_per_square_meter'].median(),\n",
    "        }\n",
    "    }\n",
    "\n",
    "def print_conclusions():\n",
    "    print()\n",
    "    print(\"Thus ...\")\n",
    "    print(\"Properties in Getafe are in average cheaper than those found in Alcorcón by the square meter\")\n",
    "    print()\n",
    "\n",
    "data_frame = pd.read_csv('./assets/real_estate.csv', sep=';')\n",
    "filtered_data_frame = data_frame[['level5', 'price', 'surface']]\n",
    "populations_to_filter = ('Getafe', 'Alcorcón')\n",
    "population_data_frames_dict = {population: filtered_data_frame[filtered_data_frame['level5'] == population].dropna() for population in populations_to_filter}\n",
    "price_per_square_meter_info_dict = {}\n",
    "for population in population_data_frames_dict:\n",
    "    population_data_frames_dict[population]['price_per_square_meter'] = filtered_data_frame['price'] / filtered_data_frame['surface']\n",
    "    price_per_square_meter_info = get_price_per_square_meter_info(data_frame=population_data_frames_dict[population])\n",
    "    price_per_square_meter_info_dict[population] = price_per_square_meter_info\n",
    "\n",
    "print(price_per_square_meter_info_dict)\n",
    "print_conclusions()"
   ]
  },
  {
   "cell_type": "markdown",
   "id": "a4376b3f",
   "metadata": {},
   "source": [
    "#### Reload the data, is the average of \"Valdemorillo\" and \"Galapagar\" prices the same?"
   ]
  },
  {
   "cell_type": "code",
   "execution_count": null,
   "id": "37dbaf65",
   "metadata": {},
   "outputs": [],
   "source": [
    "import pandas as pd\n",
    "\n",
    "data_frame = pd.read_csv('./assets/real_estate.csv', sep=';')\n",
    "filtered_data_frame = data_frame[['level5', 'price']]\n",
    "populations_to_filter = ('Valdemorillo', 'Galapagar')\n",
    "population_data_frames_dict = {population: filtered_data_frame[filtered_data_frame['level5'] == population].dropna() for population in populations_to_filter}\n",
    "valdemorillo_average_price = population_data_frames_dict[populations_to_filter[0]]['price'].mean()\n",
    "galapagar_average_price = population_data_frames_dict[populations_to_filter[1]]['price'].mean()\n",
    "print()\n",
    "print(f\"{populations_to_filter[0]} has an average price of {valdemorillo_average_price}\")\n",
    "print(f\"{populations_to_filter[1]} has an average price of {galapagar_average_price}\")\n",
    "if valdemorillo_average_price == galapagar_average_price:\n",
    "    print(\"Yes, the average price is the same\")\n",
    "else:\n",
    "    print(\"No, the average price is NOT the same\")"
   ]
  },
  {
   "cell_type": "markdown",
   "id": "b6af45ec",
   "metadata": {},
   "source": [
    "#### What happens if we do the same analysis for price/m2 (★★☆) "
   ]
  },
  {
   "cell_type": "code",
   "execution_count": null,
   "id": "8231d73e",
   "metadata": {},
   "outputs": [],
   "source": [
    "import pandas as pd\n",
    "\n",
    "data_frame = pd.read_csv('./assets/real_estate.csv', sep=';')\n",
    "filtered_data_frame = data_frame[['level5', 'price', 'surface']]\n",
    "populations_to_filter = ('Valdemorillo', 'Galapagar')\n",
    "population_data_frames_dict = {population: filtered_data_frame[filtered_data_frame['level5'] == population].dropna() for population in populations_to_filter}\n",
    "for population in population_data_frames_dict:\n",
    "    population_data_frames_dict[population]['price_per_square_meter'] = filtered_data_frame['price'] / filtered_data_frame['surface']\n",
    "\n",
    "valdemorillo_average_price_per_square_meter = population_data_frames_dict[populations_to_filter[0]]['price_per_square_meter'].mean()\n",
    "galapagar_average_price_per_square_meter = population_data_frames_dict[populations_to_filter[1]]['price_per_square_meter'].mean()\n",
    "\n",
    "print()\n",
    "print(f\"{populations_to_filter[0]} has an average price per square meter of {valdemorillo_average_price_per_square_meter}\")\n",
    "print(f\"{populations_to_filter[1]} has an average price per square meter of {galapagar_average_price_per_square_meter}\")\n",
    "if valdemorillo_average_price_per_square_meter == galapagar_average_price_per_square_meter:\n",
    "    print(\"Yes, both have the same average price per square meter\")\n",
    "else:\n",
    "    print(\"No, their average price per square meter is NOT the same\")\n",
    "print()"
   ]
  },
  {
   "cell_type": "markdown",
   "id": "2d40e202",
   "metadata": {},
   "source": [
    "#### Could you say there is a relation between surface and price? (★★☆) \n",
    "Hint: make a scatter plot."
   ]
  },
  {
   "cell_type": "code",
   "execution_count": null,
   "id": "405462e1",
   "metadata": {},
   "outputs": [],
   "source": [
    "import pandas as pd\n",
    "import matplotlib.pyplot as plt\n",
    "\n",
    "data_frame = pd.read_csv('./assets/real_estate.csv', sep=';')\n",
    "filtered_data_frame = data_frame[['level5', 'price', 'surface']]\n",
    "populations_to_filter = ('Valdemorillo', 'Galapagar')\n",
    "population_data_frames_dict = {population: filtered_data_frame[filtered_data_frame['level5'] == population].dropna() for population in populations_to_filter}\n",
    "\n",
    "plt.figure(figsize=(12, 4))\n",
    "plt.subplot(1, 3, 1)\n",
    "plt.ylabel('Surface')\n",
    "plt.scatter(population_data_frames_dict[populations_to_filter[0]]['price'], population_data_frames_dict[populations_to_filter[0]]['surface'], alpha=0.5, label=populations_to_filter[0])\n",
    "plt.legend(loc='upper left')\n",
    "plt.subplot(1, 3, 2)\n",
    "plt.scatter(population_data_frames_dict[populations_to_filter[1]]['price'], population_data_frames_dict[populations_to_filter[1]]['surface'], alpha=0.5, label=populations_to_filter[1])\n",
    "plt.legend(loc='upper left')\n",
    "plt.xlabel('Price')\n",
    "plt.subplot(1, 3, 3)\n",
    "plt.scatter(population_data_frames_dict[populations_to_filter[0]]['price'], population_data_frames_dict[populations_to_filter[0]]['surface'], alpha=0.5, label=populations_to_filter[0])\n",
    "plt.scatter(population_data_frames_dict[populations_to_filter[1]]['price'], population_data_frames_dict[populations_to_filter[1]]['surface'], alpha=0.5, label=populations_to_filter[1])\n",
    "plt.legend(loc='upper left')\n",
    "plt.show()\n",
    "\n",
    "print(\"The relation between surface and price seems to be inversely proportional.\")\n",
    "print(\"However, in Valdemorillo the surface grows faster than the price while in Galapagar seems to be the other way around.\")"
   ]
  },
  {
   "cell_type": "markdown",
   "id": "3275db77",
   "metadata": {},
   "source": [
    "#### Make the same plot for 4 different populations (level5) and rearrange them on the same graph? (★★☆) \n",
    "Hint: make a scatter plot of each population using subplots."
   ]
  },
  {
   "cell_type": "code",
   "execution_count": null,
   "id": "e08292ff",
   "metadata": {},
   "outputs": [],
   "source": [
    "import pandas as pd\n",
    "import matplotlib.pyplot as plt\n",
    "\n",
    "data_frame = pd.read_csv('./assets/real_estate.csv', sep=';')\n",
    "filtered_data_frame = data_frame[['level5', 'price', 'surface']]\n",
    "populations_to_filter = ('Valdemorillo', 'Galapagar', 'Getafe', 'Alcorcón')\n",
    "population_data_frames_dict = {population: filtered_data_frame[filtered_data_frame['level5'] == population].dropna() for population in populations_to_filter}\n",
    "\n",
    "plt.figure(figsize=(25, 8))\n",
    "plt.ylabel('Surface')\n",
    "\n",
    "for index, population in enumerate(populations_to_filter):\n",
    "    plt.subplot(1, 5, index + 1)\n",
    "    plt.scatter(population_data_frames_dict[populations_to_filter[index]]['price'], population_data_frames_dict[populations_to_filter[index]]['surface'], label=populations_to_filter[index])\n",
    "    plt.legend(loc='upper left')\n",
    "    plt.subplot(1, 5, 5)\n",
    "    plt.scatter(population_data_frames_dict[populations_to_filter[index]]['price'], population_data_frames_dict[populations_to_filter[index]]['surface'], label=populations_to_filter[index])\n",
    "\n",
    "plt.subplot(1, 5, 5)\n",
    "plt.legend(loc='upper left')\n",
    "plt.subplot(1, 5, 3)\n",
    "plt.xlabel('Price')\n",
    "plt.show()"
   ]
  },
  {
   "cell_type": "markdown",
   "id": "522c6bd9",
   "metadata": {},
   "source": [
    "#### How many  real estate agencies the dataset contains? (★★☆) "
   ]
  },
  {
   "cell_type": "code",
   "execution_count": null,
   "id": "014ec6c8",
   "metadata": {},
   "outputs": [],
   "source": [
    "import pandas as pd\n",
    "\n",
    "data_frame = pd.read_csv('./assets/real_estate.csv', sep=';')\n",
    "grouped_filtered_data_frame = data_frame.groupby(['id_realEstates'])\n",
    "grouped_filtered_data_frame = grouped_filtered_data_frame['id_realEstates']\n",
    "print(len(grouped_filtered_data_frame.size()))"
   ]
  },
  {
   "cell_type": "markdown",
   "id": "899a101e",
   "metadata": {},
   "source": [
    "#### What is the population (level 5) that contains the most houses? (★★☆) "
   ]
  },
  {
   "cell_type": "code",
   "execution_count": null,
   "id": "9e8b34ba",
   "metadata": {},
   "outputs": [],
   "source": [
    "import pandas as pd\n",
    "\n",
    "data_frame = pd.read_csv('./assets/real_estate.csv', sep=';')\n",
    "grouped_filtered_data_frame = data_frame.groupby(['level5'])\n",
    "houses_per_population = grouped_filtered_data_frame['level5'].count()\n",
    "print(houses_per_population.idxmax())"
   ]
  }
 ],
 "metadata": {
  "kernelspec": {
   "display_name": "Python 3",
   "language": "python",
   "name": "python3"
  },
  "language_info": {
   "codemirror_mode": {
    "name": "ipython",
    "version": 3
   },
   "file_extension": ".py",
   "mimetype": "text/x-python",
   "name": "python",
   "nbconvert_exporter": "python",
   "pygments_lexer": "ipython3",
   "version": "3.8.10"
  }
 },
 "nbformat": 4,
 "nbformat_minor": 5
}
